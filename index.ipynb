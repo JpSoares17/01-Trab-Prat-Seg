{
 "cells": [
  {
   "cell_type": "code",
   "execution_count": 31,
   "metadata": {},
   "outputs": [],
   "source": [
    "from Crypto.PublicKey import RSA\n",
    "from Crypto.Cipher import AES, DES, ARC4, PKCS1_OAEP\n",
    "from Crypto.Random import get_random_bytes"
   ]
  },
  {
   "cell_type": "code",
   "execution_count": 32,
   "metadata": {},
   "outputs": [],
   "source": [
    "class Nigma:\n",
    "    def __init__(self):\n",
    "        pass\n",
    "\n",
    "    def makeEnvelope(self, message, sessionKey, initializationVector, operationMode, methodCrypto):\n",
    "        if methodCrypto == \"AES\":\n",
    "            try:\n",
    "                with open(\"./envelope/output/cryptogram.bin\", \"wb\") as archive:\n",
    "                    archive.write(self.encryptAES(message, sessionKey, initializationVector, operationMode))\n",
    "                with open(\"./envelope/output/encryptSessionKey.bin\", \"wb\") as archive:\n",
    "                    archive.write(self.encryptSessionKey(sessionKey))\n",
    "                return True\n",
    "            except:\n",
    "                return False\n",
    "        elif methodCrypto == \"DES\":\n",
    "            pass\n",
    "        elif methodCrypto == \"RC4\":\n",
    "            pass\n",
    "        else:\n",
    "            return False\n",
    "\n",
    "    def generateRandomKey(self, sizeKey):\n",
    "        return get_random_bytes(sizeKey)\n",
    "    \n",
    "    def generatePairKeys(self, sizeKey=1024):\n",
    "        key = RSA.generate(sizeKey)\n",
    "        try:\n",
    "            with open(\"./openEnvelope/input/private.pem\", \"wb\") as archive:\n",
    "                archive.write(key.export_key())\n",
    "            with open(\"./envelope/input/publickey.pem\", \"wb\") as archive:\n",
    "                archive.write(key.publickey().export_key())\n",
    "            return True\n",
    "        except:\n",
    "            return False\n",
    "\n",
    "    def encryptSessionKey(self, sessionKey:bytes) -> bytes:\n",
    "        with open(\"./envelope/input/publickey.pem\", \"rb\") as archive:\n",
    "            recipient_key = RSA.import_key(archive.read())\n",
    "            cipher_rsa = PKCS1_OAEP.new(recipient_key)\n",
    "            return cipher_rsa.encrypt(sessionKey)\n",
    "        \n",
    "    def decryptSessionKey(self, encSessionKey):\n",
    "        with open(\"./openEnvelope/input/private.pem\") as archive:\n",
    "            privateKey = RSA.import_key(archive.read())\n",
    "            cipherRSA = PKCS1_OAEP.new(privateKey)\n",
    "            try:\n",
    "                with open(\"./openEnvelope/process/decryptSessionKey.bin\", \"wb\") as archive:\n",
    "                    archive.write(cipherRSA.decrypt(encSessionKey))\n",
    "                return True\n",
    "            except:\n",
    "                return False\n",
    "\n",
    "    def encryptAES(self, message, key, initializationVector, modeOperation):\n",
    "        if modeOperation == AES.MODE_CBC:\n",
    "            cipher = AES.new(key, modeOperation, initializationVector)\n",
    "            sizeBlock = AES.block_size\n",
    "            messagePadded = message + (sizeBlock - len(message) % sizeBlock) * b\"\\x00\"\n",
    "            return cipher.encrypt(messagePadded)\n",
    "        elif modeOperation == AES.MODE_ECB:\n",
    "            cipher = AES.new(key, modeOperation)\n",
    "\n",
    "    \n",
    "    def encryptDES(self, message, key, modeOperation):\n",
    "        if modeOperation == 0:\n",
    "            pass\n",
    "        elif modeOperation == 1:\n",
    "            pass\n",
    "        elif modeOperation == 2:\n",
    "            pass\n",
    "\n",
    "    def encryptRC4(self, message, key, modeOperation):\n",
    "        if modeOperation == 0:\n",
    "            pass\n",
    "        elif modeOperation == 1:\n",
    "            pass\n",
    "        elif modeOperation == 2:\n",
    "            pass\n",
    "\n",
    "    def decryptAES(self, key, initializationVector, modeOperation):\n",
    "        if modeOperation == AES.MODE_CBC:\n",
    "            with open(\"./envelope/output/cryptogram.bin\", \"rb\") as archive:\n",
    "                cryptogram = archive.read()\n",
    "            cipher = AES.new(key, modeOperation, initializationVector)\n",
    "            textLight = cipher.decrypt(cryptogram)\n",
    "            text = textLight.rstrip(b\"\\x00\")\n",
    "            with open(\"./openEnvelope/output/text.txt\", \"wb\") as archive:\n",
    "                archive.write(text)\n",
    "        elif modeOperation == AES.MODE_ECB:\n",
    "            pass\n",
    "    \n",
    "    def decryptDES(self,cryptogram, key, tag, modeOperation):\n",
    "        pass\n",
    "    \n",
    "    def decryptRC4(self,cryptogram, key, tag, modeOperation):\n",
    "        pass\n",
    "\n",
    "    def __str__(self):\n",
    "        return \"Hi, I'm Nigma!\""
   ]
  },
  {
   "cell_type": "markdown",
   "metadata": {},
   "source": [
    "Debug Envelope"
   ]
  },
  {
   "cell_type": "code",
   "execution_count": 33,
   "metadata": {},
   "outputs": [
    {
     "name": "stdout",
     "output_type": "stream",
     "text": [
      "b'k\\xfe!\\x9b\\t\\x97Ta\\x88\\x01=Fu0\\xd5\\xd7'\n"
     ]
    }
   ],
   "source": [
    "def main():\n",
    "    maquina = Nigma()\n",
    "    sessionKey = maquina.generateRandomKey(16)\n",
    "    print(sessionKey)\n",
    "    initializationVector = maquina.generateRandomKey(16)\n",
    "    maquina.generatePairKeys(1024)\n",
    "\n",
    "    with open(\"./envelope/input/message.txt\", \"rb\") as archive:\n",
    "        message = archive.read()\n",
    "\n",
    "    maquina.makeEnvelope(message, sessionKey, initializationVector, AES.MODE_CBC, \"AES\")\n",
    "\n",
    "    with open(\"./envelope/output/encryptSessionKey.bin\", \"rb\") as archive:\n",
    "        encryptSessionKey = archive.read()\n",
    "\n",
    "    maquina.decryptSessionKey(encryptSessionKey)\n",
    "\n",
    "    with open(\"./openEnvelope/process/decryptSessionKey.bin\", \"rb\") as archive:\n",
    "        sessionKey = archive.read()\n",
    "    \n",
    "    maquina.decryptAES(sessionKey, initializationVector, AES.MODE_CBC)\n",
    "    \n",
    "    \n",
    "if __name__ == \"__main__\":\n",
    "    main()"
   ]
  },
  {
   "cell_type": "code",
   "execution_count": null,
   "metadata": {},
   "outputs": [],
   "source": []
  }
 ],
 "metadata": {
  "kernelspec": {
   "display_name": "Python 3.11.0 64-bit",
   "language": "python",
   "name": "python3"
  },
  "language_info": {
   "codemirror_mode": {
    "name": "ipython",
    "version": 3
   },
   "file_extension": ".py",
   "mimetype": "text/x-python",
   "name": "python",
   "nbconvert_exporter": "python",
   "pygments_lexer": "ipython3",
   "version": "3.11.4"
  },
  "orig_nbformat": 4,
  "vscode": {
   "interpreter": {
    "hash": "ff4b1fca65a764b45acb559e482afe389d289dd599b9f8c5fd12ff5c2ea46a65"
   }
  }
 },
 "nbformat": 4,
 "nbformat_minor": 2
}
