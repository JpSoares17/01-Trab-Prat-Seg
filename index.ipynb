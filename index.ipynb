{
 "cells": [
  {
   "attachments": {},
   "cell_type": "markdown",
   "metadata": {},
   "source": [
    "Input: arquivo com a mensagem em claro + Chave RSA pública do destinatário + Algoritmo simétrico"
   ]
  },
  {
   "cell_type": "code",
   "execution_count": 22,
   "metadata": {},
   "outputs": [],
   "source": [
    "from Crypto.PublicKey import RSA\n",
    "from Crypto.Cipher import AES\n",
    "from Crypto.Random import get_random_bytes"
   ]
  },
  {
   "cell_type": "code",
   "execution_count": 37,
   "metadata": {},
   "outputs": [],
   "source": [
    "class Nigma:\n",
    "    def __init__(self):\n",
    "        pass\n",
    "\n",
    "    def encrypt(self):\n",
    "        pass\n",
    "\n",
    "    def dencrypt(self):\n",
    "        pass\n",
    "\n",
    "    def __str__(self):\n",
    "        return \"Hi, I'm Nigma!\""
   ]
  },
  {
   "cell_type": "code",
   "execution_count": 23,
   "metadata": {},
   "outputs": [],
   "source": [
    "def generatePairKeys(sizeKey=1024):\n",
    "    key = RSA.generate(sizeKey)\n",
    "    privKey = key.export_key()\n",
    "    publiKey = key.publickey().export_key()\n",
    "    return (privKey, publiKey)"
   ]
  },
  {
   "cell_type": "code",
   "execution_count": 24,
   "metadata": {},
   "outputs": [],
   "source": [
    "def generateRandomKey(sizeKey:int):\n",
    "    return get_random_bytes(sizeKey)"
   ]
  },
  {
   "cell_type": "code",
   "execution_count": 27,
   "metadata": {},
   "outputs": [],
   "source": [
    "def encrypt(data, key):\n",
    "    cipher = AES.new(key, AES.MODE_EAX)\n",
    "    nonce = cipher.nonce\n",
    "    ciphertext, tag = cipher.encrypt_and_digest(data)\n",
    "    return (nonce, ciphertext, tag)"
   ]
  },
  {
   "cell_type": "code",
   "execution_count": 38,
   "metadata": {},
   "outputs": [
    {
     "name": "stdout",
     "output_type": "stream",
     "text": [
      "Hi, I'm Nigma!\n"
     ]
    }
   ],
   "source": [
    "def main():\n",
    "    maquina = Nigma()\n",
    "    print(maquina)\n",
    "\n",
    "\n",
    "    message = b\"Hello World, Garoto\"\n",
    "    privada, publica = generatePairKeys(2048)\n",
    "    randomKey = generateRandomKey(16)\n",
    "    dados = encrypt(message, randomKey)\n",
    "\n",
    "    cipher = AES.new(randomKey, AES.MODE_EAX, dados[0])\n",
    "    data = cipher.decrypt_and_verify(dados[1], dados[2])\n",
    "    \n",
    "\n",
    "\n",
    "\n",
    "if __name__ == \"__main__\":\n",
    "    main()"
   ]
  },
  {
   "cell_type": "code",
   "execution_count": null,
   "metadata": {},
   "outputs": [],
   "source": []
  }
 ],
 "metadata": {
  "kernelspec": {
   "display_name": "Python 3.11.0 64-bit",
   "language": "python",
   "name": "python3"
  },
  "language_info": {
   "codemirror_mode": {
    "name": "ipython",
    "version": 3
   },
   "file_extension": ".py",
   "mimetype": "text/x-python",
   "name": "python",
   "nbconvert_exporter": "python",
   "pygments_lexer": "ipython3",
   "version": "3.11.4"
  },
  "orig_nbformat": 4,
  "vscode": {
   "interpreter": {
    "hash": "ff4b1fca65a764b45acb559e482afe389d289dd599b9f8c5fd12ff5c2ea46a65"
   }
  }
 },
 "nbformat": 4,
 "nbformat_minor": 2
}
