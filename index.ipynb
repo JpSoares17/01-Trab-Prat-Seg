{
 "cells": [
  {
   "attachments": {},
   "cell_type": "markdown",
   "metadata": {},
   "source": [
    "Input: arquivo com a mensagem em claro + Chave RSA pública do destinatário + Algoritmo simétrico"
   ]
  },
  {
   "cell_type": "code",
   "execution_count": 13,
   "metadata": {},
   "outputs": [],
   "source": [
    "from Crypto.PublicKey import RSA\n",
    "from Crypto.Cipher import AES\n",
    "from Crypto.Cipher import DES\n",
    "from Crypto.Cipher import ARC4\n",
    "from Crypto.Random import get_random_bytes"
   ]
  },
  {
   "cell_type": "code",
   "execution_count": 14,
   "metadata": {},
   "outputs": [],
   "source": [
    "class Nigma:\n",
    "    def __init__(self):\n",
    "        pass\n",
    "\n",
    "    def generateRandomKey(self, sizeKey):\n",
    "        return get_random_bytes(sizeKey)\n",
    "\n",
    "    def encryptAES(self, message, key, initializationVector, modeOperation):\n",
    "        if modeOperation == AES.MODE_CBC:\n",
    "            cipher = AES.new(key, modeOperation, initializationVector)\n",
    "            sizeBlock = AES.block_size\n",
    "            messagePadded = message + (sizeBlock - len(message) % sizeBlock) * b\"\\x00\"\n",
    "            return cipher.encrypt(messagePadded)\n",
    "        elif modeOperation == AES.MODE_ECB:\n",
    "            cipher = AES.new(key, modeOperation)\n",
    "\n",
    "    \n",
    "    def encryptDES(self, message, key, modeOperation):\n",
    "        if modeOperation == 0:\n",
    "            pass\n",
    "        elif modeOperation == 1:\n",
    "            pass\n",
    "        elif modeOperation == 2:\n",
    "            pass\n",
    "\n",
    "    def encryptRC4(self, message, key, modeOperation):\n",
    "        if modeOperation == 0:\n",
    "            pass\n",
    "        elif modeOperation == 1:\n",
    "            pass\n",
    "        elif modeOperation == 2:\n",
    "            pass\n",
    "\n",
    "    def decryptAES(self,cryptogram, key, tag, modeOperation):\n",
    "        cipher = AES.new(key, modeOperation, dados[0])\n",
    "        return cipher.decrypt_and_verify(cryptogram, tag)\n",
    "    \n",
    "    def decryptDES(self,cryptogram, key, tag, modeOperation):\n",
    "        pass\n",
    "    \n",
    "    def decryptRC4(self,cryptogram, key, tag, modeOperation):\n",
    "        pass\n",
    "\n",
    "    def __str__(self):\n",
    "        return \"Hi, I'm Nigma!\""
   ]
  },
  {
   "cell_type": "code",
   "execution_count": 15,
   "metadata": {},
   "outputs": [],
   "source": [
    "def generatePairKeys(sizeKey=1024):\n",
    "    key = RSA.generate(sizeKey)\n",
    "    privKey = key.export_key()\n",
    "    publiKey = key.publickey().export_key()\n",
    "    return (privKey, publiKey)"
   ]
  },
  {
   "cell_type": "code",
   "execution_count": 16,
   "metadata": {},
   "outputs": [
    {
     "name": "stdout",
     "output_type": "stream",
     "text": [
      "b'\\x18#\\xaey\\x1e\\xce\\x0e\\xd8\\xca\\xcb\\x12\\xd4\\t%HW\\xb3\\x8c\\xe4W\\xfb7 \\xb3\\x88&\\xa05\\x84\\x06X='\n"
     ]
    }
   ],
   "source": [
    "def main():\n",
    "    maquina = Nigma()\n",
    "    message = b\"Hello World, GAROTOOOOOOOO\"\n",
    "    randomKey = maquina.generateRandomKey(16)\n",
    "    initializationVector = maquina.generateRandomKey(16)\n",
    "    cryptogram = maquina.encryptAES(message, randomKey, initializationVector, AES.MODE_CBC)\n",
    "    print(cryptogram)\n",
    "\n",
    "\n",
    "if __name__ == \"__main__\":\n",
    "    main()"
   ]
  }
 ],
 "metadata": {
  "kernelspec": {
   "display_name": "Python 3.11.0 64-bit",
   "language": "python",
   "name": "python3"
  },
  "language_info": {
   "codemirror_mode": {
    "name": "ipython",
    "version": 3
   },
   "file_extension": ".py",
   "mimetype": "text/x-python",
   "name": "python",
   "nbconvert_exporter": "python",
   "pygments_lexer": "ipython3",
   "version": "3.11.4"
  },
  "orig_nbformat": 4,
  "vscode": {
   "interpreter": {
    "hash": "ff4b1fca65a764b45acb559e482afe389d289dd599b9f8c5fd12ff5c2ea46a65"
   }
  }
 },
 "nbformat": 4,
 "nbformat_minor": 2
}
