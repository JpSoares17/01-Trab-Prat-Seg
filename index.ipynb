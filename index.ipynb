{
 "cells": [
  {
   "attachments": {},
   "cell_type": "markdown",
   "metadata": {},
   "source": [
    "Input: arquivo com a mensagem em claro + Chave RSA pública do destinatário + Algoritmo simétrico"
   ]
  },
  {
   "cell_type": "code",
   "execution_count": null,
   "metadata": {},
   "outputs": [],
   "source": [
    "from Crypto.PublicKey import RSA"
   ]
  },
  {
   "cell_type": "code",
   "execution_count": null,
   "metadata": {},
   "outputs": [],
   "source": [
    "def generateKeyRSA(secretCode:str, legthModuleRSA:int) -> bytes:\n",
    "    key = RSA.generate(legthModuleRSA)\n",
    "    encriptedKey = key.export_key(passphrase=secretCode, pkcs=8, protection=\"scryptAndAES128-CBC\")\n",
    "    return encriptedKey"
   ]
  },
  {
   "cell_type": "code",
   "execution_count": null,
   "metadata": {},
   "outputs": [],
   "source": [
    "def generatePairKeys(length): return RSA.newKeys(length) #Gera par de chaves publica e privada\n",
    "def generateRandomKey(length): return RSA.generate(length) "
   ]
  },
  {
   "cell_type": "code",
   "execution_count": null,
   "metadata": {},
   "outputs": [],
   "source": [
    "def writeKey(key:bytes, mode:int) -> bool:\n",
    "    if mode == 0:\n",
    "        with open(\"./input/rsaKey.bin\", \"wb\") as archive:\n",
    "            try:\n",
    "                archive.write(key)\n",
    "                return True\n",
    "            except:\n",
    "                return False\n",
    "    elif mode == 1:\n",
    "        with open(\"./input/private.pem\", \"wb\") as archive:\n",
    "            try:\n",
    "                archive.write(key)\n",
    "                return True\n",
    "            except:\n",
    "                return False\n",
    "    elif mode == 2:\n",
    "        with open(\"./input/receiver.pem\", \"wb\") as archive:\n",
    "            try:\n",
    "                archive.write(key)\n",
    "                return True\n",
    "            except:\n",
    "                return False"
   ]
  },
  {
   "cell_type": "code",
   "execution_count": null,
   "metadata": {},
   "outputs": [],
   "source": [
    "def main():\n",
    "    rsa = generateKeyRSA(\"cachaça\", 2048)\n",
    "    private = generateKeyPrivate(2048)\n",
    "    public = generateKeyPublic(2048)\n",
    "    writeKey(rsa, 0)\n",
    "    writeKey(private, 1)\n",
    "    writeKey(public, 2)\n",
    "\n",
    "\n",
    "if __name__ == \"__main__\":\n",
    "    main()"
   ]
  },
  {
   "cell_type": "code",
   "execution_count": null,
   "metadata": {},
   "outputs": [],
   "source": []
  }
 ],
 "metadata": {
  "kernelspec": {
   "display_name": "Python 3.11.0 64-bit",
   "language": "python",
   "name": "python3"
  },
  "language_info": {
   "codemirror_mode": {
    "name": "ipython",
    "version": 3
   },
   "file_extension": ".py",
   "mimetype": "text/x-python",
   "name": "python",
   "nbconvert_exporter": "python",
   "pygments_lexer": "ipython3",
   "version": "3.11.0"
  },
  "orig_nbformat": 4,
  "vscode": {
   "interpreter": {
    "hash": "ff4b1fca65a764b45acb559e482afe389d289dd599b9f8c5fd12ff5c2ea46a65"
   }
  }
 },
 "nbformat": 4,
 "nbformat_minor": 2
}
