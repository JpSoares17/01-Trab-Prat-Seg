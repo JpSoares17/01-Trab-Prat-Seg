{
 "cells": [
  {
   "attachments": {},
   "cell_type": "markdown",
   "metadata": {},
   "source": [
    "Input: arquivo com a mensagem em claro + Chave RSA pública do destinatário + Algoritmo simétrico"
   ]
  },
  {
   "cell_type": "code",
   "execution_count": 22,
   "metadata": {},
   "outputs": [],
   "source": [
    "from Crypto.PublicKey import RSA"
   ]
  },
  {
   "cell_type": "code",
   "execution_count": 23,
   "metadata": {},
   "outputs": [],
   "source": [
    "def generateKeyRSA(secretCode:str, legthModuleRSA:int) -> bytes:\n",
    "    key = RSA.generate(legthModuleRSA)\n",
    "    encriptedKey = key.export_key(passphrase=secretCode, pkcs=8, protection=\"scryptAndAES128-CBC\")\n",
    "    return encriptedKey"
   ]
  },
  {
   "cell_type": "code",
   "execution_count": 24,
   "metadata": {},
   "outputs": [],
   "source": [
    "def generateKeyPrivate(legthModuleRSA:int):\n",
    "    key = RSA.generate(legthModuleRSA)\n",
    "    encriptedKey = key.export_key()\n",
    "    return encriptedKey"
   ]
  },
  {
   "cell_type": "code",
   "execution_count": 25,
   "metadata": {},
   "outputs": [],
   "source": [
    "def generateKeyPublic(legthModuleRSA:int):\n",
    "    key = RSA.generate(legthModuleRSA)\n",
    "    encriptedKey = key.publickey().export_key()\n",
    "    return encriptedKey"
   ]
  },
  {
   "cell_type": "code",
   "execution_count": 26,
   "metadata": {},
   "outputs": [],
   "source": [
    "def writeKey(key:bytes, mode:int) -> bool:\n",
    "    if mode == 0:\n",
    "        with open(\"./input/rsaKey.bin\", \"wb\") as archive:\n",
    "            try:\n",
    "                archive.write(key)\n",
    "                return True\n",
    "            except:\n",
    "                return False\n",
    "    elif mode == 1:\n",
    "        with open(\"./input/private.pem\", \"wb\") as archive:\n",
    "            try:\n",
    "                archive.write(key)\n",
    "                return True\n",
    "            except:\n",
    "                return False\n",
    "    elif mode == 2:\n",
    "        with open(\"./input/receiver.pem\", \"wb\") as archive:\n",
    "            try:\n",
    "                archive.write(key)\n",
    "                return True\n",
    "            except:\n",
    "                return False"
   ]
  },
  {
   "cell_type": "code",
   "execution_count": 27,
   "metadata": {},
   "outputs": [],
   "source": [
    "def main():\n",
    "    rsa = generateKeyRSA(\"cachaça\", 2048)\n",
    "    private = generateKeyPrivate(2048)\n",
    "    public = generateKeyPublic(2048)\n",
    "    writeKey(rsa, 0)\n",
    "    writeKey(private, 1)\n",
    "    writeKey(public, 2)\n",
    "\n",
    "\n",
    "if __name__ == \"__main__\":\n",
    "    main()"
   ]
  },
  {
   "cell_type": "code",
   "execution_count": null,
   "metadata": {},
   "outputs": [],
   "source": []
  }
 ],
 "metadata": {
  "kernelspec": {
   "display_name": "Python 3",
   "language": "python",
   "name": "python3"
  },
  "language_info": {
   "codemirror_mode": {
    "name": "ipython",
    "version": 3
   },
   "file_extension": ".py",
   "mimetype": "text/x-python",
   "name": "python",
   "nbconvert_exporter": "python",
   "pygments_lexer": "ipython3",
   "version": "3.11.4"
  },
  "orig_nbformat": 4
 },
 "nbformat": 4,
 "nbformat_minor": 2
}
